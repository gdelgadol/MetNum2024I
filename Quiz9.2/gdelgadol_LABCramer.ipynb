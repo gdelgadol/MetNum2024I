{
  "nbformat": 4,
  "nbformat_minor": 0,
  "metadata": {
    "colab": {
      "provenance": [],
      "include_colab_link": true
    },
    "kernelspec": {
      "name": "python3",
      "display_name": "Python 3"
    },
    "language_info": {
      "name": "python"
    }
  },
  "cells": [
    {
      "cell_type": "markdown",
      "metadata": {
        "id": "view-in-github",
        "colab_type": "text"
      },
      "source": [
        "<a href=\"https://colab.research.google.com/github/gdelgadol/MetNumUN2024I/blob/main/Quiz9.2/gdelgadol_LABCramer.ipynb\" target=\"_parent\"><img src=\"https://colab.research.google.com/assets/colab-badge.svg\" alt=\"Open In Colab\"/></a>"
      ]
    },
    {
      "cell_type": "markdown",
      "source": [
        "### Cramer by hand\n",
        "\n",
        "$$A = \\left[\n",
        "  \\begin{array}{cc}\n",
        "1 & 2\\\\\n",
        "3 & 4\n",
        "\\end{array}\n",
        "\\right],  \n",
        "b= \\left[\n",
        "\\begin{array}{c}\n",
        "5\\\\\n",
        "6\n",
        "\\end{array}\n",
        "\\right]\n",
        "$$\n",
        "$$\n",
        "Ax =B\n",
        "$$\n",
        "$$  \n",
        "\\left[\n",
        "  \\begin{array}{cc}\n",
        "1 & 2\\\\\n",
        "3 & 4\n",
        "\\end{array}\n",
        "\\right]\n",
        "\\left[\n",
        "\\begin{array}{c}\n",
        "x_1\\\\\n",
        "x_2\n",
        "\\end{array}\n",
        "\\right]  \n",
        "=\n",
        "\\left[\n",
        "\\begin{array}{c}\n",
        "5\\\\\n",
        "6\n",
        "\\end{array}\n",
        "\\right]\n",
        "$$\n",
        "\n",
        "$$Det\\ A =  (1 * 4) - (3 * 2)  = 4 - 6 = -2$$\n",
        "\n",
        "$$A_1 = \\left[\n",
        "  \\begin{array}{cc}\n",
        "5 & 2\\\\\n",
        "6 & 4\n",
        "\\end{array}\n",
        "\\right]\n",
        "$$\n",
        "\n",
        "$$Det\\ A_1 = (5 * 4) - (6 * 2) = 20 - 12 =  8$$\n",
        "\n",
        "$$x_1 =  \\frac{Det\\ A_1}{Det\\ A}= \\frac{8}{-2} =  -4$$\n",
        "\n",
        "$$A_2 = \\left[\n",
        "  \\begin{array}{cc}\n",
        "1 & 5\\\\\n",
        "3 & 6\n",
        "\\end{array}\n",
        "\\right]\n",
        "$$\n",
        "\n",
        "$$Det\\ A_2 = (1*6) - (3*5)  = 6 -15 = -9$$\n",
        "\n",
        "$$x_2 = \\frac{Det\\ A_2}{Det\\ A}= \\frac{-9}{-2} =  \\frac{9}{2}$$"
      ],
      "metadata": {
        "id": "SUmNm2PmfHU7"
      }
    },
    {
      "cell_type": "markdown",
      "source": [
        "- ***Adding a single digit to any number requires about 7.30 bits of processing.*** - World Mental Calculation: News and Resources for Competitive and Advanced Mental Calculation https://worldmentalcalculation.com/2019/06/30/fastest-possible-processing-speed-of-the-human-brain/\n",
        "\n",
        "- ***The human brain can process 11 million bits of information every second. But our conscious minds can handle only 40 to 50 bits of information a second.*** - Understanding Unconscious Bias https://www.npr.org/2020/07/14/891140598/understanding-unconscious-bias\n",
        "\n",
        "- ***A new way to analyze human reaction times shows that the brain processes data no faster than 60 bits per second.***- New Measure of Human Brain Processing Speed https://www.technologyreview.com/2009/08/25/210267/new-measure-of-human-brain-processing-speed/\n",
        "\n",
        "\n"
      ],
      "metadata": {
        "id": "3rH8z64pk2XV"
      }
    },
    {
      "cell_type": "markdown",
      "source": [
        "# Number of operations to compute a determinant by cofactor expasion\n",
        "- Cofactor expansion https://people.math.carleton.ca/~kcheung/math/notes/MATH1107/07/07_cofactor_expansion.html\n",
        "## Definition of A(i∣j)\n",
        "Let $A$ be an $n\\times n$ matrix. Let $i,j \\in \\{1,…,n\\}$. We define $A(i∣j)$  to be the matrix obtained from $A$ by removing row $i$ and column $j$ from $A$.\n",
        "\n",
        "## Cofactor formula\n",
        "One way of computing the determinant of an $n\\times n$  matrix\n",
        "\n",
        "$$A = \\left[\n",
        "  \\begin{array}{cccc}\n",
        "a_{11} & a_{12} & \\cdots & a_{1n}\\\\\n",
        "a_{21} & a_{22} & \\cdots & a_{2n}\\\\\n",
        "\\vdots  & \\vdots & \\ddots & \\vdots\\\\\n",
        "a_{n1} & a_{n2} & \\cdots & a_{nn}\\\\\n",
        "\\end{array}\n",
        "\\right]\n",
        "$$\n",
        "is to use the following formula called the cofactor formula.\n",
        "\n",
        "Pick either any $i\\ \\in \\{1,…,n\\}$ (fixed row) or $i\\ \\in \\{1,…,n\\}$ (fixed column). Then\n",
        "\n",
        "$$\\det(A)  = \\sum_{j=1}^n (-1)^{i+j}a_{ij} \\det(A(i∣j)) $$\n",
        "\n",
        "\n",
        "$C_{i,j}= (-1)^{i+j}a_{ij} \\det(A(i∣j))$ is called a cofactor of $A$.\n",
        "\n",
        "$$\\det(A)  = \\sum_{j=1}^n C_{i,j} $$\n",
        "\n"
      ],
      "metadata": {
        "id": "CgrSIpDOnaGQ"
      }
    },
    {
      "cell_type": "code",
      "source": [
        "# Code from https://stackoverflow.com/questions/16510111/computing-determinant-of-a-matrix-nxn-recursively\n",
        "\n",
        "import numpy as np\n",
        "\n",
        "def smaller_matrix(original_matrix,row, column):\n",
        "    for ii in range(len(original_matrix)):\n",
        "        new_matrix=np.delete(original_matrix,ii,0)\n",
        "        new_matrix=np.delete(new_matrix,column,1)\n",
        "        return new_matrix\n",
        "\n",
        "\n",
        "def determinant(matrix):\n",
        "    \"\"\"Returns a determinant of a matrix by recursive method.\"\"\"\n",
        "    (r,c) = matrix.shape\n",
        "    if r != c:\n",
        "        print(\"Error!Not a square matrix!\")\n",
        "        return None\n",
        "    elif r==2:\n",
        "        simple_determinant = matrix[0][0]*matrix[1][1]-matrix[0][1]*matrix[1][0]\n",
        "        return simple_determinant\n",
        "    else:\n",
        "        answer=0\n",
        "        for j in range(r):\n",
        "            cofactor = (-1)**(0+j) * matrix[0][j] * determinant(smaller_matrix(matrix, 0, j))\n",
        "            answer+= cofactor\n",
        "        return answer"
      ],
      "metadata": {
        "id": "J-joKRBhC7eF"
      },
      "execution_count": null,
      "outputs": []
    },
    {
      "cell_type": "code",
      "source": [
        "#test the function\n",
        "#Only works for numpy.array input\n",
        "np.random.seed(1)"
      ],
      "metadata": {
        "id": "Il2pcRD4DptG"
      },
      "execution_count": null,
      "outputs": []
    },
    {
      "cell_type": "code",
      "source": [
        "n = 2\n",
        "matrix=np.random.randint(-5,5,size=(n,n))\n",
        "matrix"
      ],
      "metadata": {
        "colab": {
          "base_uri": "https://localhost:8080/"
        },
        "id": "AgKC1-aiFRW2",
        "outputId": "2541b63a-3c6a-4b55-f4dd-f224ccd472c7"
      },
      "execution_count": null,
      "outputs": [
        {
          "output_type": "execute_result",
          "data": {
            "text/plain": [
              "array([[0, 3],\n",
              "       [4, 0]])"
            ]
          },
          "metadata": {},
          "execution_count": 3
        }
      ]
    },
    {
      "cell_type": "code",
      "source": [
        "determinant(matrix)"
      ],
      "metadata": {
        "colab": {
          "base_uri": "https://localhost:8080/"
        },
        "outputId": "e061012b-b0b0-43d6-bd07-d9ba8b216e42",
        "id": "oI0rUp-SDptH"
      },
      "execution_count": null,
      "outputs": [
        {
          "output_type": "execute_result",
          "data": {
            "text/plain": [
              "-12"
            ]
          },
          "metadata": {},
          "execution_count": 4
        }
      ]
    },
    {
      "cell_type": "code",
      "source": [
        "np.linalg.det(matrix)"
      ],
      "metadata": {
        "colab": {
          "base_uri": "https://localhost:8080/"
        },
        "id": "iqZv7iK-KKXH",
        "outputId": "0a3b0cb7-c2b0-4077-abef-d04aa94eb007"
      },
      "execution_count": null,
      "outputs": [
        {
          "output_type": "execute_result",
          "data": {
            "text/plain": [
              "-12.0"
            ]
          },
          "metadata": {},
          "execution_count": 5
        }
      ]
    },
    {
      "cell_type": "code",
      "source": [
        "round(np.linalg.det(matrix))"
      ],
      "metadata": {
        "colab": {
          "base_uri": "https://localhost:8080/"
        },
        "id": "sY21rHM-KdlO",
        "outputId": "d6e0cd6a-c51c-4afa-e366-21f1bf43d33f"
      },
      "execution_count": null,
      "outputs": [
        {
          "output_type": "execute_result",
          "data": {
            "text/plain": [
              "-12"
            ]
          },
          "metadata": {},
          "execution_count": 6
        }
      ]
    },
    {
      "cell_type": "code",
      "source": [
        "n = 5\n",
        "matrix=np.diag(np.random.randint(-10,10,size=(n)))\n",
        "matrix"
      ],
      "metadata": {
        "colab": {
          "base_uri": "https://localhost:8080/"
        },
        "id": "-QXGZWFIDs5k",
        "outputId": "76526f39-1c75-4272-cb69-1a0ed0cb4fa9"
      },
      "execution_count": null,
      "outputs": [
        {
          "output_type": "execute_result",
          "data": {
            "text/plain": [
              "array([[  5,   0,   0,   0,   0],\n",
              "       [  0, -10,   0,   0,   0],\n",
              "       [  0,   0,   6,   0,   0],\n",
              "       [  0,   0,   0,  -9,   0],\n",
              "       [  0,   0,   0,   0,   2]])"
            ]
          },
          "metadata": {},
          "execution_count": 7
        }
      ]
    },
    {
      "cell_type": "code",
      "source": [
        "determinant(matrix)"
      ],
      "metadata": {
        "colab": {
          "base_uri": "https://localhost:8080/"
        },
        "id": "VP6hRwhwD-3W",
        "outputId": "14d36521-765f-43a7-a147-adae5fef9bb2"
      },
      "execution_count": null,
      "outputs": [
        {
          "output_type": "execute_result",
          "data": {
            "text/plain": [
              "5400"
            ]
          },
          "metadata": {},
          "execution_count": 8
        }
      ]
    },
    {
      "cell_type": "code",
      "source": [
        "np.linalg.det(matrix)"
      ],
      "metadata": {
        "colab": {
          "base_uri": "https://localhost:8080/"
        },
        "id": "8NV7Zvp-KtRz",
        "outputId": "b20c1382-bed9-4ff0-d41f-58da731ae34c"
      },
      "execution_count": null,
      "outputs": [
        {
          "output_type": "execute_result",
          "data": {
            "text/plain": [
              "5400.000000000003"
            ]
          },
          "metadata": {},
          "execution_count": 9
        }
      ]
    },
    {
      "cell_type": "code",
      "source": [
        "round(np.linalg.det(matrix))"
      ],
      "metadata": {
        "colab": {
          "base_uri": "https://localhost:8080/"
        },
        "id": "HXKK3weLKt5T",
        "outputId": "fde42112-e09e-4bc0-8cff-a4360ac0912a"
      },
      "execution_count": null,
      "outputs": [
        {
          "output_type": "execute_result",
          "data": {
            "text/plain": [
              "5400"
            ]
          },
          "metadata": {},
          "execution_count": 10
        }
      ]
    },
    {
      "cell_type": "code",
      "source": [
        "# Modified from the previous code\n",
        "import numpy as np\n",
        "\n",
        "# A a squared numpy matrix\n",
        "def det(A):\n",
        "    \"\"\"Returns a determinant of a matrix by recursive method.\"\"\"\n",
        "    (r,c) = A.shape\n",
        "    if r != c:\n",
        "        print(\"Error!Not a square matrix!\")\n",
        "        return None\n",
        "    elif r==1:\n",
        "          # the code with  r==2 is more efficient but we use this\n",
        "         # because the number of operations is easier to compute\n",
        "        return A[0][0]\n",
        "    else:\n",
        "        answer=0\n",
        "        for j in range(r):\n",
        "            s = 1 if (0+j)%2 == 0 else -1\n",
        "            Aij = np.delete(A,0,0)\n",
        "            Aij = np.delete(Aij,j,1)\n",
        "            cofactor = (s) * A[0][j] * det(Aij)\n",
        "            answer+= cofactor\n",
        "        return answer"
      ],
      "metadata": {
        "id": "B258g8lnBgnG"
      },
      "execution_count": null,
      "outputs": []
    },
    {
      "cell_type": "code",
      "source": [
        "#test the function\n",
        "#Only works for numpy.array input\n",
        "np.random.seed(1)"
      ],
      "metadata": {
        "id": "ZR2mjlqiGdM6"
      },
      "execution_count": null,
      "outputs": []
    },
    {
      "cell_type": "code",
      "source": [
        "n = 2\n",
        "A=np.random.randint(-5,5,size=(n,n))\n",
        "A"
      ],
      "metadata": {
        "colab": {
          "base_uri": "https://localhost:8080/"
        },
        "outputId": "28af9556-d710-44f2-f98d-29057249698d",
        "id": "jPpBCFaoGlak"
      },
      "execution_count": null,
      "outputs": [
        {
          "output_type": "execute_result",
          "data": {
            "text/plain": [
              "array([[0, 3],\n",
              "       [4, 0]])"
            ]
          },
          "metadata": {},
          "execution_count": 13
        }
      ]
    },
    {
      "cell_type": "code",
      "source": [
        "det(A)"
      ],
      "metadata": {
        "colab": {
          "base_uri": "https://localhost:8080/"
        },
        "outputId": "a001d58d-8ede-485a-fa81-e82a8d792ecd",
        "id": "WKbuirZeGlak"
      },
      "execution_count": null,
      "outputs": [
        {
          "output_type": "execute_result",
          "data": {
            "text/plain": [
              "-12"
            ]
          },
          "metadata": {},
          "execution_count": 14
        }
      ]
    },
    {
      "cell_type": "code",
      "source": [
        "determinant(A)"
      ],
      "metadata": {
        "colab": {
          "base_uri": "https://localhost:8080/"
        },
        "id": "_B5xBFirTvQm",
        "outputId": "ade46efc-a50c-43dd-c371-2f5809b5addd"
      },
      "execution_count": null,
      "outputs": [
        {
          "output_type": "execute_result",
          "data": {
            "text/plain": [
              "-12"
            ]
          },
          "metadata": {},
          "execution_count": 15
        }
      ]
    },
    {
      "cell_type": "code",
      "source": [
        "np.linalg.det(A)"
      ],
      "metadata": {
        "colab": {
          "base_uri": "https://localhost:8080/"
        },
        "outputId": "57c881d4-d43e-4a53-e44f-2cb1b3a548fc",
        "id": "bRyF2dsFLbXC"
      },
      "execution_count": null,
      "outputs": [
        {
          "output_type": "execute_result",
          "data": {
            "text/plain": [
              "-12.0"
            ]
          },
          "metadata": {},
          "execution_count": 16
        }
      ]
    },
    {
      "cell_type": "code",
      "source": [
        "round(np.linalg.det(A))"
      ],
      "metadata": {
        "colab": {
          "base_uri": "https://localhost:8080/"
        },
        "outputId": "887a11d6-43ae-4190-c36f-274c4a3d8746",
        "id": "sOe1w9FPLbXD"
      },
      "execution_count": null,
      "outputs": [
        {
          "output_type": "execute_result",
          "data": {
            "text/plain": [
              "-12"
            ]
          },
          "metadata": {},
          "execution_count": 17
        }
      ]
    },
    {
      "cell_type": "code",
      "source": [
        "n = 10\n",
        "\n",
        "A=np.random.randint(-10,10,size=(n,n))\n",
        "\n",
        "A"
      ],
      "metadata": {
        "colab": {
          "base_uri": "https://localhost:8080/"
        },
        "outputId": "9fdf67be-31c5-4187-d7a0-9d0bd17b1bdf",
        "id": "jzFX1soHGlak"
      },
      "execution_count": null,
      "outputs": [
        {
          "output_type": "execute_result",
          "data": {
            "text/plain": [
              "array([[  5, -10,   6,  -9,   2,  -3,   3,  -4,   8,  -5],\n",
              "       [  8,   1,   0,   4,   8,  -6,  -1,   7, -10,   3],\n",
              "       [ -1,  -1,  -3,  -9, -10,   7,  -2,   3,   9,   5],\n",
              "       [  0,  -2,  -3,  -7,  -4,   7,  -7,  -6,   7,   1],\n",
              "       [  2,   6,   3,   9,  -1,   8,   5, -10,  -6,   5],\n",
              "       [ -8,  -3,  -2,  -1,  -7,  -3,  -6,  -5,   9,  -4],\n",
              "       [ -2, -10,  -8,   0,   5,   5,  -3,   9,   0,   4],\n",
              "       [-10,  -9,   7,   3,  -7, -10,   3,  -4,  -4,  -8],\n",
              "       [  2,   1,  -3,   3,  -2,   1,   2,   1,  -6,  -3],\n",
              "       [ -3,   3,  -6,   6,   8, -10,   3,   0,   7,  -3]])"
            ]
          },
          "metadata": {},
          "execution_count": 18
        }
      ]
    },
    {
      "cell_type": "code",
      "source": [
        "import time\n",
        "\n",
        "start_time = time.time()\n",
        "d = det(A)\n",
        "end_time = time.time()"
      ],
      "metadata": {
        "id": "I97qAqxGGlak"
      },
      "execution_count": null,
      "outputs": []
    },
    {
      "cell_type": "code",
      "source": [
        "print(\"det(A): \",d)\n",
        "print(\"time: \",end_time - start_time)"
      ],
      "metadata": {
        "colab": {
          "base_uri": "https://localhost:8080/"
        },
        "id": "s7Ud-gBiTD0n",
        "outputId": "3dac2878-8f91-450f-ed54-ce270b7e88cb"
      },
      "execution_count": null,
      "outputs": [
        {
          "output_type": "stream",
          "name": "stdout",
          "text": [
            "det(A):  29129065307\n",
            "time:  70.667320728302\n"
          ]
        }
      ]
    },
    {
      "cell_type": "code",
      "source": [
        "import time\n",
        "\n",
        "start_time = time.time()\n",
        "d = determinant(A)\n",
        "end_time = time.time()"
      ],
      "metadata": {
        "id": "kjLXFQOeTRd2"
      },
      "execution_count": null,
      "outputs": []
    },
    {
      "cell_type": "code",
      "source": [
        "print(\"determinant(A): \",d)\n",
        "print(\"time: \",end_time - start_time)"
      ],
      "metadata": {
        "colab": {
          "base_uri": "https://localhost:8080/"
        },
        "id": "_TQFWy4ZSiDZ",
        "outputId": "d326f664-c8ad-4ffb-9be0-2940fe8d2cfc"
      },
      "execution_count": null,
      "outputs": [
        {
          "output_type": "stream",
          "name": "stdout",
          "text": [
            "determinant(A):  29129065307\n",
            "time:  33.91729283332825\n"
          ]
        }
      ]
    },
    {
      "cell_type": "code",
      "source": [
        "import time\n",
        "\n",
        "start_time = time.time()\n",
        "d = np.linalg.det(A)\n",
        "end_time = time.time()"
      ],
      "metadata": {
        "id": "jL23i77VT55-"
      },
      "execution_count": null,
      "outputs": []
    },
    {
      "cell_type": "code",
      "source": [
        "print(\"np.linalg.det(A): \",d)\n",
        "print(\"time: \",end_time - start_time)"
      ],
      "metadata": {
        "colab": {
          "base_uri": "https://localhost:8080/"
        },
        "id": "n94nx14VT5wn",
        "outputId": "8d33b11b-6ede-4530-d6b6-c91511e2df9b"
      },
      "execution_count": null,
      "outputs": [
        {
          "output_type": "stream",
          "name": "stdout",
          "text": [
            "np.linalg.det(A):  29129065306.99992\n",
            "time:  0.0013222694396972656\n"
          ]
        }
      ]
    },
    {
      "cell_type": "markdown",
      "source": [
        "# Estimating the time by instruction in Python in a Colab machine"
      ],
      "metadata": {
        "id": "Ssedt2z56DNC"
      }
    },
    {
      "cell_type": "code",
      "source": [
        "import numpy as np\n",
        "\n",
        "n = 100\n",
        "\n",
        "A = np.ones((n,n))\n",
        "\n",
        "A"
      ],
      "metadata": {
        "colab": {
          "base_uri": "https://localhost:8080/"
        },
        "id": "1KhlyeNi4uwa",
        "outputId": "2ff9dce1-1b24-4aa8-e610-7c6617f072e4"
      },
      "execution_count": null,
      "outputs": [
        {
          "output_type": "execute_result",
          "data": {
            "text/plain": [
              "array([[1., 1., 1., ..., 1., 1., 1.],\n",
              "       [1., 1., 1., ..., 1., 1., 1.],\n",
              "       [1., 1., 1., ..., 1., 1., 1.],\n",
              "       ...,\n",
              "       [1., 1., 1., ..., 1., 1., 1.],\n",
              "       [1., 1., 1., ..., 1., 1., 1.],\n",
              "       [1., 1., 1., ..., 1., 1., 1.]])"
            ]
          },
          "metadata": {},
          "execution_count": 25
        }
      ]
    },
    {
      "cell_type": "code",
      "source": [
        "B = np.ones((n,n))\n",
        "\n",
        "B"
      ],
      "metadata": {
        "colab": {
          "base_uri": "https://localhost:8080/"
        },
        "id": "RKtHO3UY5M87",
        "outputId": "b196bcb1-9904-45bf-d920-64f80cfdb449"
      },
      "execution_count": null,
      "outputs": [
        {
          "output_type": "execute_result",
          "data": {
            "text/plain": [
              "array([[1., 1., 1., ..., 1., 1., 1.],\n",
              "       [1., 1., 1., ..., 1., 1., 1.],\n",
              "       [1., 1., 1., ..., 1., 1., 1.],\n",
              "       ...,\n",
              "       [1., 1., 1., ..., 1., 1., 1.],\n",
              "       [1., 1., 1., ..., 1., 1., 1.],\n",
              "       [1., 1., 1., ..., 1., 1., 1.]])"
            ]
          },
          "metadata": {},
          "execution_count": 26
        }
      ]
    },
    {
      "cell_type": "code",
      "source": [
        "import time\n",
        "\n",
        "C= np.zeros((n,n))\n",
        "\n",
        "start_time = time.time()\n",
        "for i in range(n):\n",
        "        for j in range(n):\n",
        "            C[i][j] = 0\n",
        "            for k in range(len(A[0])):\n",
        "                C[i][j] += A[i][k] * B[k][j]\n",
        "end_time = time.time()\n",
        "print(end_time - start_time)"
      ],
      "metadata": {
        "colab": {
          "base_uri": "https://localhost:8080/"
        },
        "id": "0UFSLi-F5P0a",
        "outputId": "cc5030d3-89d9-4c15-bd25-4bd7d1a3ffa2"
      },
      "execution_count": null,
      "outputs": [
        {
          "output_type": "stream",
          "name": "stdout",
          "text": [
            "1.179107904434204\n"
          ]
        }
      ]
    },
    {
      "cell_type": "code",
      "source": [
        "C"
      ],
      "metadata": {
        "colab": {
          "base_uri": "https://localhost:8080/"
        },
        "id": "h9zr4Z9P61bs",
        "outputId": "1bca3629-7efe-499f-f2b1-31883090a213"
      },
      "execution_count": null,
      "outputs": [
        {
          "output_type": "execute_result",
          "data": {
            "text/plain": [
              "array([[100., 100., 100., ..., 100., 100., 100.],\n",
              "       [100., 100., 100., ..., 100., 100., 100.],\n",
              "       [100., 100., 100., ..., 100., 100., 100.],\n",
              "       ...,\n",
              "       [100., 100., 100., ..., 100., 100., 100.],\n",
              "       [100., 100., 100., ..., 100., 100., 100.],\n",
              "       [100., 100., 100., ..., 100., 100., 100.]])"
            ]
          },
          "metadata": {},
          "execution_count": 28
        }
      ]
    },
    {
      "cell_type": "code",
      "source": [
        "time_by_oper_python = (end_time - start_time)/(2*n**3 - n**2)\n",
        "\n",
        "time_by_oper_python"
      ],
      "metadata": {
        "colab": {
          "base_uri": "https://localhost:8080/"
        },
        "id": "iEhaMEK77Ko7",
        "outputId": "94b261d4-f789-49c9-955b-623364d9e0bd"
      },
      "execution_count": null,
      "outputs": [
        {
          "output_type": "execute_result",
          "data": {
            "text/plain": [
              "5.925165348915599e-07"
            ]
          },
          "metadata": {},
          "execution_count": 29
        }
      ]
    },
    {
      "cell_type": "code",
      "source": [
        "import time\n",
        "import numpy as np\n",
        "\n",
        "start_time = time.time()\n",
        "C = A@B\n",
        "end_time = time.time()\n",
        "print(end_time - start_time)"
      ],
      "metadata": {
        "colab": {
          "base_uri": "https://localhost:8080/"
        },
        "id": "TfGsw6UF9o-a",
        "outputId": "6a8fcc05-f403-4129-99df-60305495b2d3"
      },
      "execution_count": null,
      "outputs": [
        {
          "output_type": "stream",
          "name": "stdout",
          "text": [
            "0.010293245315551758\n"
          ]
        }
      ]
    },
    {
      "cell_type": "code",
      "source": [
        "C"
      ],
      "metadata": {
        "colab": {
          "base_uri": "https://localhost:8080/"
        },
        "id": "Q5MtZtVT93oQ",
        "outputId": "9348bf62-4cc9-4383-d0e6-a99b70fe8ab0"
      },
      "execution_count": null,
      "outputs": [
        {
          "output_type": "execute_result",
          "data": {
            "text/plain": [
              "array([[100., 100., 100., ..., 100., 100., 100.],\n",
              "       [100., 100., 100., ..., 100., 100., 100.],\n",
              "       [100., 100., 100., ..., 100., 100., 100.],\n",
              "       ...,\n",
              "       [100., 100., 100., ..., 100., 100., 100.],\n",
              "       [100., 100., 100., ..., 100., 100., 100.],\n",
              "       [100., 100., 100., ..., 100., 100., 100.]])"
            ]
          },
          "metadata": {},
          "execution_count": 31
        }
      ]
    },
    {
      "cell_type": "code",
      "source": [
        "time_by_oper_numpy = (end_time - start_time)/(2*n**3 - n**2)\n",
        "\n",
        "time_by_oper_numpy"
      ],
      "metadata": {
        "colab": {
          "base_uri": "https://localhost:8080/"
        },
        "id": "DTVYQYxT-TsJ",
        "outputId": "ab170050-70a7-416a-b9cd-6ed7b36e4474"
      },
      "execution_count": null,
      "outputs": [
        {
          "output_type": "execute_result",
          "data": {
            "text/plain": [
              "5.172485083191838e-09"
            ]
          },
          "metadata": {},
          "execution_count": 32
        }
      ]
    },
    {
      "cell_type": "markdown",
      "source": [
        "# Time estimation for the digital computer computation of a 3 x 3 matrix determinant by cofactor expansion\n",
        "\n",
        "The number of operations $(+,-,*)$ perfomed  *det(A)* algorithm that calculates\n",
        "\n",
        "$$\\det(A)  = \\sum_{j=1}^n (-1)^{i+j}a_{ij} \\det(A(i∣j)) $$\n",
        "\n",
        "is given by\n",
        "\n",
        "$$\\begin{array}{lll}\n",
        "T(n) & =&  nT(n-1) + 5n , T(1) = 1\\\\\n",
        "\\end{array}\n",
        "$$\n",
        "\n",
        "$$\\begin{array}{lll}\n",
        "T(n) & =&  nT(n-1) + 5n\\\\\n",
        "     & =&  n[(n-1) T(n-2) + 5 (n-1) +10] + 5n  \\\\\n",
        "     & =&  n(n-1) T(n-2) + 5 n  (n-1) + 5n \\\\\n",
        "     & =&  n(n-1) [(n-2) T(n-3) + 5 (n-2)] + 5 n(n-1) + 5n\\\\\n",
        "     & = & n(n-1)(n-2) T(n-3) + 5n(n-1)(n-2)+  5 n  (n-1) + 5n \\\\\n",
        "     & \\vdots\\\\\n",
        "     & = &  n(n-1)(n-2)\\cdots (n -(n-2))  T(1) + [5n(n-1)(n-2)(n-3)\\cdots (n -(n-3))] + \\cdots + [5 n (n-1)]+ 5n \\\\\n",
        "    & = & n! + [5n(n-1)(n-2)(n-3)\\cdots 2] + [5n(n-1)(n-2)(n-3)\\cdots 3]+ \\cdots +[5 n (n-1) (n-3)] + [5 n (n-1)]+ 5n  \n",
        "\\end{array}\n",
        "$$\n",
        "\n",
        "$$T(n) = n! + 5 \\sum_{i=0}^{n-1} n!/i! = n! + 5 n!\\sum_{i=0}^{n-1} \\frac{1}{i!} < n! + 5 e n! < 16 n!  $$\n",
        "\n",
        "1. Asumming that an arithmetic operation takes the *time_by_oper_python* estimated before,  what is the maximun square matrix size for which the deteminant can be computed with cofactor extesion in $\\le$ 3 minute. Report the time at [LABCramer](https://docs.google.com/spreadsheets/d/1JNUbuj3QHcyPmp8i6kNreUFucj2mOvKHkCFHHy7zfws/edit?usp=sharing).\n",
        "\n",
        "2. Run an experiment with a random matrix of that size and report the time at [LABCramer](https://docs.google.com/spreadsheets/d/1JNUbuj3QHcyPmp8i6kNreUFucj2mOvKHkCFHHy7zfws/edit?usp=sharing).\n",
        "\n",
        "If the determinant of a $n \\times n$ square matrix takes $16 n!$ operations how much takes the Crammer solution of $n \\times n$ systems of linear equations?\n",
        "\n",
        "\n",
        "\n",
        "\n"
      ],
      "metadata": {
        "id": "PhAai3wzo_Tc"
      }
    },
    {
      "cell_type": "markdown",
      "source": [],
      "metadata": {
        "id": "1Q2_AgMR74mR"
      }
    },
    {
      "cell_type": "markdown",
      "source": [
        "# Time estimation for the human computer computation of a 3 x 3 matrix determinant by cofactor expansion\n",
        "\n",
        " Write a 3 x 3 matrix with the first element as your list number Mod 10 and the rest row by row 1,2,3,...9 skipimg the first element, by example if youir list number is 12, your list number Mod 10 is 2 and the matrix is\n",
        "$$A = \\left[\n",
        "  \\begin{array}{ccc}\n",
        "2 & 1 & 3\\\\\n",
        "4 & 5 & 6\\\\\n",
        "7 & 8 & 9\\\\\n",
        "\\end{array}\n",
        "\\right]\n",
        "$$\n",
        "Use a chronometer like http://online-stopwatch.chronme.com/ to estimate the time to compute the determinant by using the procedure in the follo wing exmaple (https://people.math.carleton.ca/~kcheung/math/notes/MATH1107/07/07_cofactor_expansion.html):<br />  \n",
        "Let\n",
        "$$A = \\begin{bmatrix} 10 & 2 & 3\\\\ 4 & 5 & 6\\\\ 7 & 8 & 9 \\end{bmatrix}$$\n",
        "we compute $\\det(A)$ by expanding along row $2$ as <br /> <br />\n",
        "$$\\begin{eqnarray} \\det(A) & = & (-1)^{2+1}A_{2,1}\\det(A(2 \\mid 1)) + (-1)^{2+2}A_{2,2}\\det(A(2 \\mid 2)) + (-1)^{2+3}A_{2,3}\\det(A(2 \\mid 3)) \\\\ & = & -10\\left|\\begin{matrix} 2 & 3 \\\\ 8 & 9\\end{matrix}\\right| + 5\\left|\\begin{matrix} 1 & 3 \\\\ 7 & 9\\end{matrix}\\right| - 6\\left|\\begin{matrix} 1 & 2 \\\\ 7 & 8\\end{matrix}\\right| \\\\ & = & -10(2\\cdot 9 - 3\\cdot 8) + 5(1 \\cdot 9- 3\\cdot 7) - 6(1\\cdot 8 - 2 \\cdot 7) \\\\ & = & 60 - 60 + 36 \\\\ & = & 36\\end{eqnarray}$$\n",
        "3. Report the time at [LABCramer](https://docs.google.com/spreadsheets/d/1JNUbuj3QHcyPmp8i6kNreUFucj2mOvKHkCFHHy7zfws/edit?usp=sharing)\n",
        "4. Report the value of the determinant at [LABCramer](https://docs.google.com/spreadsheets/d/1JNUbuj3QHcyPmp8i6kNreUFucj2mOvKHkCFHHy7zfws/edit?usp=sharing)\n"
      ],
      "metadata": {
        "id": "__brdhGadAXY"
      }
    },
    {
      "cell_type": "code",
      "source": [
        "import math\n",
        "\n",
        "def cofactor(n):\n",
        "    return math.factorial(n)+5*sum(math.factorial(n)//math.factorial(i) for i in range(n))\n",
        "\n",
        "time_by_oper_python = 5.708057077685792e-07\n",
        "tot = 3 * 60\n",
        "n = 1\n",
        "t = 0\n",
        "while t < tot:\n",
        "    t = cofactor(n) * time_by_oper_python\n",
        "    n += 1\n",
        "n-=1\n",
        "\n",
        "print(\"Maximum Size:\", n-1)\n",
        "print(\"Operation Time:\", cofactor(n-1)*time_by_oper_python)"
      ],
      "metadata": {
        "colab": {
          "base_uri": "https://localhost:8080/"
        },
        "id": "vR8Pe9EIRN9D",
        "outputId": "0175ae43-777e-4dac-ff78-3e61044b7c2c"
      },
      "execution_count": 3,
      "outputs": [
        {
          "output_type": "stream",
          "name": "stdout",
          "text": [
            "Maximum Size: 10\n",
            "Operation Time: 30.223762662350833\n"
          ]
        }
      ]
    },
    {
      "cell_type": "code",
      "source": [
        "import numpy as np\n",
        "import time\n",
        "\n",
        "def determinant(matrix):\n",
        "    if len(matrix) == 2:\n",
        "        return matrix[0][0] * matrix[1][1] - matrix[0][1] * matrix[1][0]\n",
        "\n",
        "    det = 0\n",
        "    for c in range(len(matrix)):\n",
        "        det += ((-1) ** c) * matrix[0][c] * determinant(minor(matrix, 0, c))\n",
        "    return det\n",
        "\n",
        "def minor(matrix, i, j):\n",
        "    return [row[:j] + row[j+1:] for row in (matrix[:i] + matrix[i+1:])]\n",
        "\n",
        "matrix = np.random.randint(1, 10, size=(10, 10)).tolist()\n",
        "\n",
        "start = time.time()\n",
        "det = determinant(matrix)\n",
        "end = time.time()\n",
        "\n",
        "print(\"Determinant:\", det)\n",
        "print(\"Time:\", end - start)\n",
        "\n"
      ],
      "metadata": {
        "colab": {
          "base_uri": "https://localhost:8080/"
        },
        "id": "HlcC99jKSqJl",
        "outputId": "8b9e6568-17dc-4a6e-c0b6-6e499943b9e2"
      },
      "execution_count": 6,
      "outputs": [
        {
          "output_type": "stream",
          "name": "stdout",
          "text": [
            "Determinant: -13630204\n",
            "Time: 6.3953633308410645\n"
          ]
        }
      ]
    }
  ]
}